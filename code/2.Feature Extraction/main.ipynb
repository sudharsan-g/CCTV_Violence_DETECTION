{
 "cells": [
  {
   "cell_type": "code",
   "execution_count": 33,
   "metadata": {},
   "outputs": [],
   "source": [
    "import cv2 as cv\n",
    "import pandas as pd\n",
    "import numpy as np\n",
    "import matplotlib.pyplot as plt\n",
    "import warnings \n",
    "warnings.filterwarnings(action=\"ignore\")"
   ]
  },
  {
   "cell_type": "code",
   "execution_count": 36,
   "metadata": {},
   "outputs": [],
   "source": [
    "import numpy as np\n",
    "import cv2\n",
    "\n",
    "# Define the path to the video\n",
    "video_path = '../../SCVD/videos/Non-Violence Videos/NV1.mov'\n",
    "\n",
    "# Open the video\n",
    "cap = cv2.VideoCapture(video_path)\n",
    "feature_detector = cv2.GFTTDetector_create(1000)\n",
    "\n",
    "frame_width = int(cap.get(3))\n",
    "frame_height = int(cap.get(4))\n",
    "fourcc = cv.VideoWriter_fourcc(*'MP4V')\n",
    "out = cv.VideoWriter('output.mp4', fourcc, 30, (frame_width, frame_height))\n",
    "\n",
    "# Define the dataframe to store the features\n",
    "features_df = pd.DataFrame(columns=['Frame', 'X', 'Y'])\n",
    "\n",
    "# Loop through the video frames\n",
    "frame_index = 0\n",
    "while True:\n",
    "    # Read the next frame\n",
    "    ret, frame = cap.read()\n",
    "\n",
    "    # If the frame was successfully read\n",
    "    if ret:\n",
    "        # Detect the features in the frame\n",
    "        keypoints = feature_detector.detect(frame)\n",
    "\n",
    "        # Convert the keypoints to an array of (x, y) coordinates\n",
    "        keypoint_coords = np.array([keypoint.pt for keypoint in keypoints], dtype=np.int)\n",
    "\n",
    "        # Loop through the keypoint coordinates\n",
    "        for x, y in keypoint_coords:\n",
    "            # Store the feature in the dataframe\n",
    "            features_df = features_df.append({'Frame': frame_index, 'X': x, 'Y': y}, ignore_index=True)\n",
    "\n",
    "        # Draw circles around the features\n",
    "        frame = cv2.drawKeypoints(frame, keypoints, None, color=(0, 0, 255), flags=cv2.DRAW_MATCHES_FLAGS_DRAW_RICH_KEYPOINTS)\n",
    "\n",
    "        # Display the frame\n",
    "        cv2.imshow('frame', frame)\n",
    "\n",
    "        # Break the loop if the user presses 'q'\n",
    "        if cv2.waitKey(1) & 0xFF == ord('q'):\n",
    "            break\n",
    "\n",
    "        # Increment the frame index\n",
    "        frame_index += 1\n",
    "        out.write(frame)\n",
    "    # If there are no more frames\n",
    "    else:\n",
    "        # Break the loop\n",
    "        break\n",
    "\n",
    "# Save the features to a CSV file\n",
    "features_df.to_csv('features.csv', index=False)\n",
    "\n",
    "# Release the video capture object\n",
    "cap.release()\n",
    "\n",
    "# Close the display window\n",
    "cv2.destroyAllWindows()"
   ]
  },
  {
   "cell_type": "code",
   "execution_count": 31,
   "metadata": {},
   "outputs": [],
   "source": [
    "# cv2.destroyAllWindows()\n",
    "out.release()"
   ]
  },
  {
   "cell_type": "code",
   "execution_count": 2,
   "metadata": {},
   "outputs": [],
   "source": [
    "import scapy.all as scapy\n",
    "scapy.sniff(count=1)"
   ]
  },
  {
   "cell_type": "code",
   "execution_count": null,
   "metadata": {},
   "outputs": [],
   "source": []
  }
 ],
 "metadata": {
  "kernelspec": {
   "display_name": "cv",
   "language": "python",
   "name": "python3"
  },
  "language_info": {
   "codemirror_mode": {
    "name": "ipython",
    "version": 3
   },
   "file_extension": ".py",
   "mimetype": "text/x-python",
   "name": "python",
   "nbconvert_exporter": "python",
   "pygments_lexer": "ipython3",
   "version": "3.9.15"
  },
  "orig_nbformat": 4,
  "vscode": {
   "interpreter": {
    "hash": "2c7baff0236ceb200e59f59e6d17220523c699eeeb456a3ae133cb9294b398f3"
   }
  }
 },
 "nbformat": 4,
 "nbformat_minor": 2
}
